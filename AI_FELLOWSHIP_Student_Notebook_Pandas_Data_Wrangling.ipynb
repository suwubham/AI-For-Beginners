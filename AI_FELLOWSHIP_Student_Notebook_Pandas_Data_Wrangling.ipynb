{
  "nbformat": 4,
  "nbformat_minor": 0,
  "metadata": {
    "colab": {
      "provenance": [],
      "include_colab_link": true
    },
    "kernelspec": {
      "name": "python3",
      "display_name": "Python 3"
    },
    "language_info": {
      "name": "python"
    }
  },
  "cells": [
    {
      "cell_type": "markdown",
      "metadata": {
        "id": "view-in-github",
        "colab_type": "text"
      },
      "source": [
        "<a href=\"https://colab.research.google.com/github/suwubham/AI-For-Beginners/blob/main/AI_FELLOWSHIP_Student_Notebook_Pandas_Data_Wrangling.ipynb\" target=\"_parent\"><img src=\"https://colab.research.google.com/assets/colab-badge.svg\" alt=\"Open In Colab\"/></a>"
      ]
    },
    {
      "cell_type": "markdown",
      "source": [
        "![image](https://analyticsindiamag.com/wp-content/uploads/2020/04/Screenshot-2020-04-15-at-10.08.12-AM.png)"
      ],
      "metadata": {
        "id": "p814sgXJERi0"
      }
    },
    {
      "cell_type": "markdown",
      "source": [
        "## Business Problem Understanding\n",
        "\n",
        "- According to the World Health Organization (WHO) stroke is the 2nd leading cause of death globally, responsible for approximately 11% of total deaths.\n",
        "\n",
        "- This dataset is used to predict whether a patient is likely to get stroke based on the input parameters like gender, age, various diseases, and smoking status.\n",
        "\n",
        "- Each row in the data provides relavant information about the patient.\n",
        "\n",
        "## Attribute Information\n",
        "- 1) id: unique identifier\n",
        "- 2) gender: \"Male\", \"Female\" or \"Other\"\n",
        "- 3) age: age of the patient\n",
        "- 4) hypertension: 0 if the patient doesn't have hypertension, 1 if the patient has hypertension\n",
        "- 5) heart_disease: 0 if the patient doesn't have any heart diseases, 1 if the patient has a heart disease\n",
        "- 6) ever_married: \"No\" or \"Yes\"\n",
        "- 7) work_type: \"children\", \"Govt_jov\", \"Never_worked\", \"Private\" or \"Self-employed\"\n",
        "- 8) Residence_type: \"Rural\" or \"Urban\"\n",
        "- 9) avg_glucose_level: average glucose level in blood\n",
        "- 10) bmi: body mass index\n",
        "- 11) smoking_status: \"formerly smoked\", \"never smoked\", \"smokes\" or \"Unknown\"*\n",
        "- 12) stroke: 1 if the patient had a stroke or 0 if not\n",
        "\n",
        "*Note: \"Unknown\" in smoking_status means that the information is unavailable for this patient\n",
        "\n"
      ],
      "metadata": {
        "id": "0IFzERN2E3GJ"
      }
    },
    {
      "cell_type": "markdown",
      "source": [
        "## Data Collection/Data Import"
      ],
      "metadata": {
        "id": "c1HtQqj9F9vh"
      }
    },
    {
      "cell_type": "markdown",
      "source": [
        "**The dataset is available at this google drive link:**\n",
        "**Use gdown to download this in the colab environment directly.**\n",
        "\n",
        "!gdown https://drive.google.com/uc?id=1vs0cmeKYeht_d07C1HvHFUIxD-IfEACL\n"
      ],
      "metadata": {
        "id": "6tqw3sJpFrG5"
      }
    },
    {
      "cell_type": "code",
      "source": [
        "## write your code here\n"
      ],
      "metadata": {
        "id": "wc7c2HmyDPlg"
      },
      "execution_count": null,
      "outputs": []
    },
    {
      "cell_type": "markdown",
      "source": [
        "## Importing Necessary libraries"
      ],
      "metadata": {
        "id": "BcEVPy03Ef6X"
      }
    },
    {
      "cell_type": "code",
      "source": [
        "import os\n",
        "import gdown\n",
        "import numpy as np\n",
        "import pandas as pd\n",
        "import seaborn as sns\n",
        "import matplotlib.pyplot as plt"
      ],
      "metadata": {
        "id": "WVMCc1INEhvr"
      },
      "execution_count": null,
      "outputs": []
    },
    {
      "cell_type": "markdown",
      "source": [
        "## Importing Data From CSV File Using Pandas"
      ],
      "metadata": {
        "id": "gIPI9WxRGWvx"
      }
    },
    {
      "cell_type": "code",
      "source": [
        "## write your code here\n"
      ],
      "metadata": {
        "id": "zIwmS8GTGWNr"
      },
      "execution_count": null,
      "outputs": []
    },
    {
      "cell_type": "markdown",
      "source": [
        "## Data Understanding:"
      ],
      "metadata": {
        "id": "LIC0Mi2kGlvc"
      }
    },
    {
      "cell_type": "markdown",
      "source": [
        "### Print the first five rows of the pandas dataframe"
      ],
      "metadata": {
        "id": "0mSxRinbGgCh"
      }
    },
    {
      "cell_type": "code",
      "source": [
        "## write your code here\n"
      ],
      "metadata": {
        "id": "6VMFr1B6GQri"
      },
      "execution_count": null,
      "outputs": []
    },
    {
      "cell_type": "markdown",
      "source": [
        "## Print the last five rows of the pandas dataframe"
      ],
      "metadata": {
        "id": "aMPQwK1CG4N4"
      }
    },
    {
      "cell_type": "code",
      "source": [
        "## write your code here\n"
      ],
      "metadata": {
        "id": "ETMqdQzIGqwm"
      },
      "execution_count": null,
      "outputs": []
    },
    {
      "cell_type": "markdown",
      "source": [
        "## What is the shape of the dataset?"
      ],
      "metadata": {
        "id": "IzKZZ5aTG_SE"
      }
    },
    {
      "cell_type": "code",
      "source": [
        "## write your code here\n"
      ],
      "metadata": {
        "id": "Z2GuUdYEG8zb"
      },
      "execution_count": null,
      "outputs": []
    },
    {
      "cell_type": "markdown",
      "source": [
        "## What are the name of the columns in the dataframe?"
      ],
      "metadata": {
        "id": "SezKlK60HIaF"
      }
    },
    {
      "cell_type": "code",
      "source": [
        "## write your code here\n"
      ],
      "metadata": {
        "id": "v6NSIuTcHEaO"
      },
      "execution_count": null,
      "outputs": []
    },
    {
      "cell_type": "markdown",
      "source": [
        "### What are the datatypes of each feature in the dataset?"
      ],
      "metadata": {
        "id": "sxCe3aFGHPqT"
      }
    },
    {
      "cell_type": "code",
      "source": [
        "## write your code here\n"
      ],
      "metadata": {
        "id": "nORQCnZKHNed"
      },
      "execution_count": null,
      "outputs": []
    },
    {
      "cell_type": "markdown",
      "source": [
        "## Descriptive Statistics\n",
        "\n",
        "Descriptive statistics involve a set of summary measures that provide a snapshot of the dataset's characteristics. These measures help us understand the distribution, central tendency, and variability within the data.\n",
        "\n",
        "- Mean: The average value of the data.\n",
        "- Median: The middle value when the data is sorted.\n",
        "- Mode: The most frequently occurring value.\n",
        "- Range: The difference between the maximum and minimum values.\n",
        "- Standard Deviation: A more interpretable measure of data spread.\n",
        "These statistics provide a preliminary understanding of the dataset, which is valuable for subsequent analysis and decision-making.\n",
        "\n"
      ],
      "metadata": {
        "id": "BTrz_4nDKRIY"
      }
    },
    {
      "cell_type": "markdown",
      "source": [
        "### How to see the descriptive statistics of a dataset?"
      ],
      "metadata": {
        "id": "PJh2DGMuKdc-"
      }
    },
    {
      "cell_type": "code",
      "source": [
        "## write your code here?\n"
      ],
      "metadata": {
        "id": "OMzcCYTzKYpc"
      },
      "execution_count": null,
      "outputs": []
    },
    {
      "cell_type": "markdown",
      "source": [
        "## How to select gender column from the pandas dataframe?"
      ],
      "metadata": {
        "id": "jYm5dkRQHdQh"
      }
    },
    {
      "cell_type": "code",
      "source": [
        "## write your code here\n"
      ],
      "metadata": {
        "id": "K1Quzev3HWX5"
      },
      "execution_count": null,
      "outputs": []
    },
    {
      "cell_type": "markdown",
      "source": [
        "### How to select multiple columns : age, gender and bmi?"
      ],
      "metadata": {
        "id": "O87Q-Pv2HuSV"
      }
    },
    {
      "cell_type": "code",
      "source": [
        "## write your code here\n"
      ],
      "metadata": {
        "id": "LhyYmkTKHm0A"
      },
      "execution_count": null,
      "outputs": []
    },
    {
      "cell_type": "markdown",
      "source": [
        "## How to select the 7th row of the pandas dataframe?\n"
      ],
      "metadata": {
        "id": "Na9-3HaAH-T2"
      }
    },
    {
      "cell_type": "code",
      "source": [
        "## write your code here\n"
      ],
      "metadata": {
        "id": "DxKWEAGaH2FZ"
      },
      "execution_count": null,
      "outputs": []
    },
    {
      "cell_type": "markdown",
      "source": [
        "## How to select the 4th column from the pandas dataframe?\n"
      ],
      "metadata": {
        "id": "SWKXH7e0IHVF"
      }
    },
    {
      "cell_type": "code",
      "source": [
        "## write your code here\n"
      ],
      "metadata": {
        "id": "18TwG_-gICUV"
      },
      "execution_count": null,
      "outputs": []
    },
    {
      "cell_type": "markdown",
      "source": [
        "## How to select 20th to 30th row and 3rd to 7th column in pandas dataframe?"
      ],
      "metadata": {
        "id": "2mMuMgLRIbek"
      }
    },
    {
      "cell_type": "code",
      "source": [
        "## write your code here\n"
      ],
      "metadata": {
        "id": "M6MQ0GBAIPet"
      },
      "execution_count": null,
      "outputs": []
    },
    {
      "cell_type": "markdown",
      "source": [
        "## How to select 3rd and 100th row & 4th and 10th column in a pandas dataframe?"
      ],
      "metadata": {
        "id": "mOYlOO6IIpvf"
      }
    },
    {
      "cell_type": "code",
      "source": [
        "## write your code here\n"
      ],
      "metadata": {
        "id": "RZBxJJuaIe5k"
      },
      "execution_count": null,
      "outputs": []
    },
    {
      "cell_type": "markdown",
      "source": [
        "## Select only those rows with gender 'Male'"
      ],
      "metadata": {
        "id": "qJDMEk3XJBKL"
      }
    },
    {
      "cell_type": "code",
      "source": [
        "## write your code here\n"
      ],
      "metadata": {
        "id": "Onnpibs2I0gm"
      },
      "execution_count": null,
      "outputs": []
    },
    {
      "cell_type": "markdown",
      "source": [
        "## Select all those rows which have avg_glucose_level greater than 100 and columns gender, age, bmi and avg_glucose_level"
      ],
      "metadata": {
        "id": "l8shY_roJbQr"
      }
    },
    {
      "cell_type": "code",
      "source": [
        "## write your code here\n"
      ],
      "metadata": {
        "id": "vBmeU7h7JIk6"
      },
      "execution_count": null,
      "outputs": []
    },
    {
      "cell_type": "markdown",
      "source": [
        "## Select all those Females who are greater than 50 years old?"
      ],
      "metadata": {
        "id": "ZPwD6WERJxfG"
      }
    },
    {
      "cell_type": "code",
      "source": [
        "## write your code here\n"
      ],
      "metadata": {
        "id": "uXYoVDsvJk0c"
      },
      "execution_count": null,
      "outputs": []
    },
    {
      "cell_type": "markdown",
      "source": [
        "## Data Wrangling\n",
        "\n",
        "- Data Inspection\n",
        "  - Checking Duplicate Enties\n",
        "  - Checking Missing Values\n",
        "  - Checking standard format\n",
        "  - Checking data entry typos and errors\n",
        "- Data Cleaning\n",
        "  - Removing Duplicates\n",
        "  - Handling Missing Values\n",
        "  - Standardizing Formats\n",
        "  - Correcting Errors\n",
        "- Data Transformation\n",
        "  - Feature Engineering\n",
        "  - Normalization/Scaling\n",
        "  - One-Hot Encoding\n",
        "- Data Integration\n",
        "- Data Reduction\n",
        "- Data Formatting\n",
        "- Data Enrichment\n",
        "- Data Validation\n",
        "- Documentation\n",
        "- Exploratory Data Analysis (EDA)\n"
      ],
      "metadata": {
        "id": "MoGtqDg-LDUQ"
      }
    },
    {
      "cell_type": "markdown",
      "source": [
        "### Checking Duplicate Entries\n",
        "- Check if duplicate entries are present or not.\n",
        "- If present find how many of duplicate entries are there?"
      ],
      "metadata": {
        "id": "Tv59NmshLk9h"
      }
    },
    {
      "cell_type": "code",
      "source": [
        "## write your code here\n"
      ],
      "metadata": {
        "id": "Lv4Gcme6KDXH"
      },
      "execution_count": null,
      "outputs": []
    },
    {
      "cell_type": "code",
      "source": [
        "## write your code here\n"
      ],
      "metadata": {
        "id": "ZvMjZ2T-KpId"
      },
      "execution_count": null,
      "outputs": []
    },
    {
      "cell_type": "markdown",
      "source": [
        "## Remove Duplicate Entries\n",
        "\n",
        "- Remove all those rows which has duplicate entries"
      ],
      "metadata": {
        "id": "uBv2FTw7L7gK"
      }
    },
    {
      "cell_type": "code",
      "source": [
        "## write your code here\n"
      ],
      "metadata": {
        "id": "VUKSJBHbLtHB"
      },
      "execution_count": null,
      "outputs": []
    },
    {
      "cell_type": "code",
      "source": [
        "## write your code here\n"
      ],
      "metadata": {
        "id": "Rn_WXSMUMEJI"
      },
      "execution_count": null,
      "outputs": []
    },
    {
      "cell_type": "markdown",
      "source": [
        "## Checking Missing Values\n",
        "- Find missing values (NAN) values in the datasets\n",
        "- Find columns which has missing values with their frequency"
      ],
      "metadata": {
        "id": "ZIQdCWmjMi8R"
      }
    },
    {
      "cell_type": "code",
      "source": [
        "## write your code here\n"
      ],
      "metadata": {
        "id": "v8cakW4cMNKi"
      },
      "execution_count": null,
      "outputs": []
    },
    {
      "cell_type": "markdown",
      "source": [
        "## Visualize missing values using heatmaps"
      ],
      "metadata": {
        "id": "wbKDGBTGMwof"
      }
    },
    {
      "cell_type": "code",
      "source": [
        "## write your code here\n"
      ],
      "metadata": {
        "id": "UvY_SV-TMNNX"
      },
      "execution_count": null,
      "outputs": []
    },
    {
      "cell_type": "markdown",
      "source": [
        "## Handling Missing Values\n",
        "\n",
        "- Handle missing values for ever_married column, avg_glucose_level and weight_in_kg column"
      ],
      "metadata": {
        "id": "DcrkiP18NfjW"
      }
    },
    {
      "cell_type": "code",
      "source": [
        "## write your code here\n"
      ],
      "metadata": {
        "id": "2-idkbgOMNP9"
      },
      "execution_count": null,
      "outputs": []
    },
    {
      "cell_type": "code",
      "source": [
        "## write your code here\n"
      ],
      "metadata": {
        "id": "DL0S3d5FMNS9"
      },
      "execution_count": null,
      "outputs": []
    },
    {
      "cell_type": "code",
      "source": [
        "## write your code here\n",
        "\n"
      ],
      "metadata": {
        "id": "8FNdApHgNoSv"
      },
      "execution_count": null,
      "outputs": []
    },
    {
      "cell_type": "code",
      "source": [
        "## write your code here\n",
        "\n"
      ],
      "metadata": {
        "id": "8VV8AGgFN6VT"
      },
      "execution_count": null,
      "outputs": []
    },
    {
      "cell_type": "markdown",
      "source": [
        "## Checking missing values for weight_in_kg and bmi columns"
      ],
      "metadata": {
        "id": "ss5BBdL5nhII"
      }
    },
    {
      "cell_type": "code",
      "source": [
        "## write your code here\n"
      ],
      "metadata": {
        "id": "6tyjr5pmOhye"
      },
      "execution_count": null,
      "outputs": []
    },
    {
      "cell_type": "code",
      "source": [
        "## write your code here\n"
      ],
      "metadata": {
        "id": "GVvrnFyfOdVN"
      },
      "execution_count": null,
      "outputs": []
    },
    {
      "cell_type": "markdown",
      "source": [
        "## Check relationship between bmi and height_in_m whether it can be used to fill missing values in bmi (use scatterplot to visually inspect relationship)\n"
      ],
      "metadata": {
        "id": "fAQrvTXqnq9R"
      }
    },
    {
      "cell_type": "code",
      "source": [
        "## write your code here\n"
      ],
      "metadata": {
        "id": "Gokj-af6OfRj"
      },
      "execution_count": null,
      "outputs": []
    },
    {
      "cell_type": "code",
      "source": [
        "## write your code here\n"
      ],
      "metadata": {
        "id": "Ke6kWxX_PIBj"
      },
      "execution_count": null,
      "outputs": []
    },
    {
      "cell_type": "code",
      "source": [
        "## write your code here\n"
      ],
      "metadata": {
        "id": "GB1WVuZOPWb1"
      },
      "execution_count": null,
      "outputs": []
    },
    {
      "cell_type": "code",
      "source": [
        "## write your code here\n"
      ],
      "metadata": {
        "id": "Bdh26tyKPhPP"
      },
      "execution_count": null,
      "outputs": []
    },
    {
      "cell_type": "markdown",
      "source": [
        "## Exploratory Data Analysis\n",
        "\n",
        "- Univariate Analysis: Studying one variable at a time\n",
        "- Bivariate Analysis: Studying two variables at a time\n",
        "- Multivariate Analysis: Studying multiple variables at a time\n",
        "- We need to investigate each feature properly"
      ],
      "metadata": {
        "id": "G5oV7TZHP_h3"
      }
    },
    {
      "cell_type": "code",
      "source": [
        "## write your code here\n"
      ],
      "metadata": {
        "id": "68NeELsnQYLe"
      },
      "execution_count": null,
      "outputs": []
    },
    {
      "cell_type": "markdown",
      "source": [
        "## id feature"
      ],
      "metadata": {
        "id": "6ncE8puRQV3G"
      }
    },
    {
      "cell_type": "code",
      "source": [
        "## write your code here\n"
      ],
      "metadata": {
        "id": "-H5ovpAmPjbL"
      },
      "execution_count": null,
      "outputs": []
    },
    {
      "cell_type": "code",
      "source": [],
      "metadata": {
        "id": "KepFLzUMQeMD"
      },
      "execution_count": null,
      "outputs": []
    },
    {
      "cell_type": "markdown",
      "source": [
        "## gender"
      ],
      "metadata": {
        "id": "72T2_GNdQj90"
      }
    },
    {
      "cell_type": "code",
      "source": [
        "## write your code here (check dtypes first)\n"
      ],
      "metadata": {
        "id": "UtV3KGWJQfpS"
      },
      "execution_count": null,
      "outputs": []
    },
    {
      "cell_type": "code",
      "source": [
        "## write your code here\n"
      ],
      "metadata": {
        "id": "k0YlhcJaQnaj"
      },
      "execution_count": null,
      "outputs": []
    },
    {
      "cell_type": "code",
      "source": [
        "## write your code here for calculating frequency count of gender column\n"
      ],
      "metadata": {
        "id": "qt7WIpkcQr2q"
      },
      "execution_count": null,
      "outputs": []
    },
    {
      "cell_type": "code",
      "source": [],
      "metadata": {
        "id": "htc1l7qRQ7uY"
      },
      "execution_count": null,
      "outputs": []
    },
    {
      "cell_type": "code",
      "source": [
        "## write your code here\n"
      ],
      "metadata": {
        "id": "3t3teBBpQ-G7"
      },
      "execution_count": null,
      "outputs": []
    },
    {
      "cell_type": "code",
      "source": [],
      "metadata": {
        "id": "IfwE2PwgRVjP"
      },
      "execution_count": null,
      "outputs": []
    },
    {
      "cell_type": "markdown",
      "source": [
        "## Create Piechart Or Bargraph For Univariate Analysis Of Categorical Feature"
      ],
      "metadata": {
        "id": "mvVf-tfFoV9t"
      }
    },
    {
      "cell_type": "code",
      "source": [
        "## write your code here\n"
      ],
      "metadata": {
        "id": "eSD2OxtfRXIk"
      },
      "execution_count": null,
      "outputs": []
    },
    {
      "cell_type": "markdown",
      "source": [
        "## smoking status"
      ],
      "metadata": {
        "id": "Hi_BQvAkSDAj"
      }
    },
    {
      "cell_type": "code",
      "source": [
        "## write your code here\n"
      ],
      "metadata": {
        "id": "N8hTdzjQRk6O"
      },
      "execution_count": null,
      "outputs": []
    },
    {
      "cell_type": "code",
      "source": [
        "## write your code here\n"
      ],
      "metadata": {
        "id": "86qKBQ95SOWZ"
      },
      "execution_count": null,
      "outputs": []
    },
    {
      "cell_type": "code",
      "source": [
        "## write your code here\n"
      ],
      "metadata": {
        "id": "YaDqAvGpSWwY"
      },
      "execution_count": null,
      "outputs": []
    },
    {
      "cell_type": "code",
      "source": [
        "## write your code here\n"
      ],
      "metadata": {
        "id": "r92tbwSJSkIv"
      },
      "execution_count": null,
      "outputs": []
    },
    {
      "cell_type": "code",
      "source": [],
      "metadata": {
        "id": "AjTVNVxiSwFm"
      },
      "execution_count": null,
      "outputs": []
    },
    {
      "cell_type": "code",
      "source": [],
      "metadata": {
        "id": "SvLZymRpTFKs"
      },
      "execution_count": null,
      "outputs": []
    },
    {
      "cell_type": "markdown",
      "source": [
        "## Plot figure (Barchart)"
      ],
      "metadata": {
        "id": "vpYyqjGNophN"
      }
    },
    {
      "cell_type": "code",
      "source": [],
      "metadata": {
        "id": "FhzyX-NtTXQB"
      },
      "execution_count": null,
      "outputs": []
    },
    {
      "cell_type": "code",
      "source": [
        "## write your code here (use seaborn)\n"
      ],
      "metadata": {
        "id": "aLV1D1P0TH0S"
      },
      "execution_count": null,
      "outputs": []
    },
    {
      "cell_type": "markdown",
      "source": [
        "## hypertension"
      ],
      "metadata": {
        "id": "CF7Nkt_2T3bM"
      }
    },
    {
      "cell_type": "code",
      "source": [
        "## write your code here\n"
      ],
      "metadata": {
        "id": "JJtYr91WT6kc"
      },
      "execution_count": null,
      "outputs": []
    },
    {
      "cell_type": "code",
      "source": [
        "## write your code here (show graph)\n"
      ],
      "metadata": {
        "id": "VmXA47dSUChR"
      },
      "execution_count": null,
      "outputs": []
    },
    {
      "cell_type": "markdown",
      "source": [
        "## stroke feature"
      ],
      "metadata": {
        "id": "-1CQbv7iUbcl"
      }
    },
    {
      "cell_type": "code",
      "source": [
        "## write your code here\n"
      ],
      "metadata": {
        "id": "HsJogkAMUdMB"
      },
      "execution_count": null,
      "outputs": []
    },
    {
      "cell_type": "code",
      "source": [
        "## write your code here(piechart)\n"
      ],
      "metadata": {
        "id": "_D-g2NbkUdSj"
      },
      "execution_count": null,
      "outputs": []
    },
    {
      "cell_type": "markdown",
      "source": [
        "# Bivariate Analysis\n",
        "## Is there a chance that patients with hypertension has more likely to get a stroke or not? (cross_tab function)"
      ],
      "metadata": {
        "id": "gTTbq1PiUR32"
      }
    },
    {
      "cell_type": "code",
      "source": [
        "## write your code here\n"
      ],
      "metadata": {
        "id": "ThzCvC9sTl5n"
      },
      "execution_count": null,
      "outputs": []
    },
    {
      "cell_type": "markdown",
      "source": [
        "## Hypothesis Testing (Chisquare test for Independence)\n",
        "\n",
        "\n",
        "chi2, p, dof, expected = chi2_contingency(stroke_hypertension_df)"
      ],
      "metadata": {
        "id": "LtsOO7YmV0eD"
      }
    },
    {
      "cell_type": "code",
      "source": [],
      "metadata": {
        "id": "aBEHqaZypJhz"
      },
      "execution_count": null,
      "outputs": []
    },
    {
      "cell_type": "code",
      "source": [
        "from scipy.stats import chi2_contingency"
      ],
      "metadata": {
        "id": "-9vhMDdqV01Q"
      },
      "execution_count": null,
      "outputs": []
    },
    {
      "cell_type": "code",
      "source": [
        "# Perform Chi-square test\n",
        "\n"
      ],
      "metadata": {
        "id": "Y_rB2cTIVWEO"
      },
      "execution_count": null,
      "outputs": []
    },
    {
      "cell_type": "markdown",
      "source": [
        "## Group Barplot"
      ],
      "metadata": {
        "id": "ufOhe3T9WcsO"
      }
    },
    {
      "cell_type": "code",
      "source": [
        "## write your code here\n"
      ],
      "metadata": {
        "id": "5cIzszcLWUo_"
      },
      "execution_count": null,
      "outputs": []
    },
    {
      "cell_type": "code",
      "source": [
        "# Plot using Seaborn\n",
        "\n"
      ],
      "metadata": {
        "id": "HULtKCswWnMt"
      },
      "execution_count": null,
      "outputs": []
    },
    {
      "cell_type": "markdown",
      "source": [
        "## heart disease"
      ],
      "metadata": {
        "id": "nuRlc2MHXcXn"
      }
    },
    {
      "cell_type": "code",
      "source": [
        "## write your code here\n"
      ],
      "metadata": {
        "id": "Nr6S55KcW8gN"
      },
      "execution_count": null,
      "outputs": []
    },
    {
      "cell_type": "code",
      "source": [
        "## write your code here\n"
      ],
      "metadata": {
        "id": "yyTfktueXwPa"
      },
      "execution_count": null,
      "outputs": []
    },
    {
      "cell_type": "markdown",
      "source": [
        "## Hypothesis Testing (Chisquare test for Independence)\n"
      ],
      "metadata": {
        "id": "vu_GERuWXnwD"
      }
    },
    {
      "cell_type": "code",
      "source": [
        "# Perform Chi-square test\n",
        "\n"
      ],
      "metadata": {
        "id": "LyYbz6JzXgry"
      },
      "execution_count": null,
      "outputs": []
    },
    {
      "cell_type": "markdown",
      "source": [
        "## Group Bar plot"
      ],
      "metadata": {
        "id": "Wwjfrp15YCRd"
      }
    },
    {
      "cell_type": "code",
      "source": [
        "## write your code here with long format table\n"
      ],
      "metadata": {
        "id": "26IAU0CUX-pn"
      },
      "execution_count": null,
      "outputs": []
    },
    {
      "cell_type": "code",
      "source": [
        "## write your code here\n"
      ],
      "metadata": {
        "id": "FG2r0VgUYWcj"
      },
      "execution_count": null,
      "outputs": []
    },
    {
      "cell_type": "code",
      "source": [],
      "metadata": {
        "id": "P9Ml4bE6YjY5"
      },
      "execution_count": null,
      "outputs": []
    },
    {
      "cell_type": "code",
      "source": [],
      "metadata": {
        "id": "JoPCIcQQYy6c"
      },
      "execution_count": null,
      "outputs": []
    },
    {
      "cell_type": "code",
      "source": [],
      "metadata": {
        "id": "mn2-44UgYy-p"
      },
      "execution_count": null,
      "outputs": []
    },
    {
      "cell_type": "code",
      "source": [],
      "metadata": {
        "id": "DEStIMU5YzDA"
      },
      "execution_count": null,
      "outputs": []
    },
    {
      "cell_type": "markdown",
      "source": [
        "## Numerical Features"
      ],
      "metadata": {
        "id": "kY8OEbjOYz_n"
      }
    },
    {
      "cell_type": "code",
      "source": [
        "# select numerical features\n",
        "## write your code here\n"
      ],
      "metadata": {
        "id": "vKovecgVY4XD"
      },
      "execution_count": null,
      "outputs": []
    },
    {
      "cell_type": "markdown",
      "source": [
        "## age column"
      ],
      "metadata": {
        "id": "oze9WaJeZg1j"
      }
    },
    {
      "cell_type": "code",
      "source": [
        "## write your code here (for histogram)\n"
      ],
      "metadata": {
        "id": "ho4MBiwJZFSz"
      },
      "execution_count": null,
      "outputs": []
    },
    {
      "cell_type": "code",
      "source": [
        "## write your code here (for kde plot)\n"
      ],
      "metadata": {
        "id": "I3Zd7-fMZSqA"
      },
      "execution_count": null,
      "outputs": []
    },
    {
      "cell_type": "code",
      "source": [
        "## write your code here (for outlier analysis using boxplot)\n"
      ],
      "metadata": {
        "id": "Qd_mvJfsaPxf"
      },
      "execution_count": null,
      "outputs": []
    },
    {
      "cell_type": "code",
      "source": [],
      "metadata": {
        "id": "K-k5xhxuZbvT"
      },
      "execution_count": null,
      "outputs": []
    },
    {
      "cell_type": "markdown",
      "source": [
        "## Bmi column"
      ],
      "metadata": {
        "id": "uEgcrDrNZ36B"
      }
    },
    {
      "cell_type": "code",
      "source": [
        "## write your code here (for histogram)\n"
      ],
      "metadata": {
        "id": "EsZqBKByZkmu"
      },
      "execution_count": null,
      "outputs": []
    },
    {
      "cell_type": "code",
      "source": [
        "## write your code here (for kde plot)"
      ],
      "metadata": {
        "id": "uS6q70cpZ9BM"
      },
      "execution_count": null,
      "outputs": []
    },
    {
      "cell_type": "code",
      "source": [],
      "metadata": {
        "id": "A_n8remsaBov"
      },
      "execution_count": null,
      "outputs": []
    },
    {
      "cell_type": "code",
      "source": [
        "## write your code here (for boxplot outlier analysis)\n"
      ],
      "metadata": {
        "id": "7FlzRT1PaMG4"
      },
      "execution_count": null,
      "outputs": []
    },
    {
      "cell_type": "markdown",
      "source": [
        "### Hypothesis Test For Normality\n",
        "\n",
        "\n",
        "# Perform Kolmogorov-Smirnov test\n",
        "statistic, pvalue = kstest(final_df['bmi'], 'norm')\n",
        "\n",
        "# Print the result\n",
        "print(\"Kolmogorov-Smirnov Test Statistic:\", statistic)\n",
        "\n",
        "print(\"p-value:\", pvalue)\n",
        "\n",
        "# Interpret the results\n",
        "alpha = 0.05  # Significance level\n",
        "\n",
        "if pvalue > alpha:\n",
        "    print(\"Sample looks Gaussian (fail to reject H0)\")\n",
        "    \n",
        "else:\n",
        "    print(\"Sample does not look Gaussian (reject H0)\")\n"
      ],
      "metadata": {
        "id": "qrqg2Tc4hbh-"
      }
    },
    {
      "cell_type": "code",
      "source": [
        "from scipy.stats import kstest, shapiro"
      ],
      "metadata": {
        "id": "bQO-iM8ego4K"
      },
      "execution_count": null,
      "outputs": []
    },
    {
      "cell_type": "markdown",
      "source": [
        "## Scatterplots"
      ],
      "metadata": {
        "id": "5YiAa1gHahk3"
      }
    },
    {
      "cell_type": "code",
      "source": [
        "## write your code here\n"
      ],
      "metadata": {
        "id": "Qar1MmSJaj2W"
      },
      "execution_count": null,
      "outputs": []
    },
    {
      "cell_type": "markdown",
      "source": [
        "## Correlation Plots and Heatmaps"
      ],
      "metadata": {
        "id": "qlYbOrl_qBtC"
      }
    },
    {
      "cell_type": "code",
      "source": [
        "## write your code here\n"
      ],
      "metadata": {
        "id": "8k5My7vgbAKZ"
      },
      "execution_count": null,
      "outputs": []
    },
    {
      "cell_type": "code",
      "source": [],
      "metadata": {
        "id": "-Kj76sN1bUGS"
      },
      "execution_count": null,
      "outputs": []
    },
    {
      "cell_type": "code",
      "source": [],
      "metadata": {
        "id": "DEIlMKKNfztU"
      },
      "execution_count": null,
      "outputs": []
    }
  ]
}